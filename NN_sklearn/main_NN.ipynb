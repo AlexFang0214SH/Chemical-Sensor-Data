{
 "cells": [
  {
   "cell_type": "markdown",
   "metadata": {},
   "source": [
    "# Introduction\n",
    "\n",
    "This notebook guides through calibration function development using published data (S. De Vito et al., Sensors and Actuators B: Chemical, Volume 129, Issue 2)."
   ]
  },
  {
   "cell_type": "code",
   "execution_count": 2,
   "metadata": {},
   "outputs": [],
   "source": [
    "# Load libriaries.\n",
    "import pandas as pd\n",
    "import numpy as np\n",
    "import scipy as sp\n",
    "from scipy.stats import ks_2samp\n",
    "from sklearn.preprocessing import StandardScaler\n",
    "from sklearn.impute import SimpleImputer\n",
    "from sklearn.neural_network import MLPRegressor\n",
    "from sklearn.ensemble import IsolationForest\n",
    "from sklearn.linear_model import LinearRegression\n",
    "from sklearn.model_selection import train_test_split, RandomizedSearchCV, validation_curve, learning_curve\n",
    "from sklearn.metrics import r2_score, explained_variance_score, mean_squared_error\n",
    "from sklearn.inspection import permutation_importance, partial_dependence\n",
    "from sklearn.decomposition import FastICA, KernelPCA\n",
    "\n",
    "%matplotlib inline\n",
    "import matplotlib.pyplot as plt\n",
    "plt.rcParams['lines.linewidth'] = 1.0\n",
    "plt.rcParams['font.size'] = 6.0\n",
    "plt.rcParams['axes.titlesize'] = 6.0"
   ]
  },
  {
   "cell_type": "markdown",
   "metadata": {},
   "source": [
    "# Method(s)\n",
    "A neural network is used as machine learning algorithm. To avoid overfitting, a randomized grid search over regularization parameter and neural network architecture is performed."
   ]
  },
  {
   "cell_type": "code",
   "execution_count": 3,
   "metadata": {},
   "outputs": [],
   "source": [
    "# Define helper functions.\n",
    "scaler = StandardScaler(copy=True) # Define standard scaler instance.\n",
    "imputer = SimpleImputer() # Define imputer instance.\n",
    "detector = IsolationForest(n_estimators=1000, random_state=0) # Define outlier detector instance.\n",
    "dim_red = KernelPCA(n_components=2, kernel=\"rbf\", random_state=0, n_jobs=-1) # Define dimensionality reduction instance.\n",
    "model = MLPRegressor(max_iter=10000, random_state=0) # Define neural network model instance.\n",
    "lin_reg = LinearRegression() # Define linear regression instance."
   ]
  },
  {
   "cell_type": "markdown",
   "metadata": {},
   "source": [
    "# Data Handling\n",
    "Load data to pandas data frame."
   ]
  },
  {
   "cell_type": "code",
   "execution_count": 4,
   "metadata": {},
   "outputs": [
    {
     "data": {
      "text/html": [
       "<div>\n",
       "<style scoped>\n",
       "    .dataframe tbody tr th:only-of-type {\n",
       "        vertical-align: middle;\n",
       "    }\n",
       "\n",
       "    .dataframe tbody tr th {\n",
       "        vertical-align: top;\n",
       "    }\n",
       "\n",
       "    .dataframe thead th {\n",
       "        text-align: right;\n",
       "    }\n",
       "</style>\n",
       "<table border=\"1\" class=\"dataframe\">\n",
       "  <thead>\n",
       "    <tr style=\"text-align: right;\">\n",
       "      <th></th>\n",
       "      <th>CO(GT)</th>\n",
       "      <th>PT08.S1(CO)</th>\n",
       "      <th>NMHC(GT)</th>\n",
       "      <th>C6H6(GT)</th>\n",
       "      <th>PT08.S2(NMHC)</th>\n",
       "      <th>NOx(GT)</th>\n",
       "      <th>PT08.S3(NOx)</th>\n",
       "      <th>NO2(GT)</th>\n",
       "      <th>PT08.S4(NO2)</th>\n",
       "      <th>PT08.S5(O3)</th>\n",
       "      <th>T</th>\n",
       "      <th>RH</th>\n",
       "      <th>AH</th>\n",
       "    </tr>\n",
       "  </thead>\n",
       "  <tbody>\n",
       "    <tr>\n",
       "      <th>count</th>\n",
       "      <td>3447.000000</td>\n",
       "      <td>4275.000000</td>\n",
       "      <td>914.000000</td>\n",
       "      <td>4275.000000</td>\n",
       "      <td>4275.000000</td>\n",
       "      <td>3525.000000</td>\n",
       "      <td>4275.000000</td>\n",
       "      <td>3522.000000</td>\n",
       "      <td>4275.000000</td>\n",
       "      <td>4275.000000</td>\n",
       "      <td>4275.000000</td>\n",
       "      <td>4275.000000</td>\n",
       "      <td>4275.000000</td>\n",
       "    </tr>\n",
       "    <tr>\n",
       "      <th>mean</th>\n",
       "      <td>1.918422</td>\n",
       "      <td>1077.334113</td>\n",
       "      <td>218.811816</td>\n",
       "      <td>9.850661</td>\n",
       "      <td>937.848090</td>\n",
       "      <td>126.051348</td>\n",
       "      <td>897.271150</td>\n",
       "      <td>94.706133</td>\n",
       "      <td>1617.936394</td>\n",
       "      <td>944.460370</td>\n",
       "      <td>23.451201</td>\n",
       "      <td>42.485045</td>\n",
       "      <td>1.153040</td>\n",
       "    </tr>\n",
       "    <tr>\n",
       "      <th>std</th>\n",
       "      <td>1.206673</td>\n",
       "      <td>200.344215</td>\n",
       "      <td>204.459921</td>\n",
       "      <td>6.566329</td>\n",
       "      <td>240.489984</td>\n",
       "      <td>83.970746</td>\n",
       "      <td>228.686816</td>\n",
       "      <td>36.637686</td>\n",
       "      <td>255.788785</td>\n",
       "      <td>343.175279</td>\n",
       "      <td>7.843419</td>\n",
       "      <td>15.985736</td>\n",
       "      <td>0.343338</td>\n",
       "    </tr>\n",
       "    <tr>\n",
       "      <th>min</th>\n",
       "      <td>0.100000</td>\n",
       "      <td>708.000000</td>\n",
       "      <td>7.000000</td>\n",
       "      <td>0.464418</td>\n",
       "      <td>437.000000</td>\n",
       "      <td>2.000000</td>\n",
       "      <td>387.500000</td>\n",
       "      <td>5.000000</td>\n",
       "      <td>955.000000</td>\n",
       "      <td>263.000000</td>\n",
       "      <td>6.100000</td>\n",
       "      <td>9.175000</td>\n",
       "      <td>0.375444</td>\n",
       "    </tr>\n",
       "    <tr>\n",
       "      <th>25%</th>\n",
       "      <td>1.000000</td>\n",
       "      <td>932.250000</td>\n",
       "      <td>67.000000</td>\n",
       "      <td>4.843458</td>\n",
       "      <td>755.500000</td>\n",
       "      <td>63.000000</td>\n",
       "      <td>735.875000</td>\n",
       "      <td>67.000000</td>\n",
       "      <td>1441.750000</td>\n",
       "      <td>692.875000</td>\n",
       "      <td>17.300000</td>\n",
       "      <td>29.500000</td>\n",
       "      <td>0.904255</td>\n",
       "    </tr>\n",
       "    <tr>\n",
       "      <th>50%</th>\n",
       "      <td>1.700000</td>\n",
       "      <td>1047.500000</td>\n",
       "      <td>150.000000</td>\n",
       "      <td>8.499723</td>\n",
       "      <td>919.500000</td>\n",
       "      <td>108.000000</td>\n",
       "      <td>860.000000</td>\n",
       "      <td>94.000000</td>\n",
       "      <td>1587.000000</td>\n",
       "      <td>896.500000</td>\n",
       "      <td>23.450000</td>\n",
       "      <td>42.500000</td>\n",
       "      <td>1.096318</td>\n",
       "    </tr>\n",
       "    <tr>\n",
       "      <th>75%</th>\n",
       "      <td>2.500000</td>\n",
       "      <td>1184.250000</td>\n",
       "      <td>297.000000</td>\n",
       "      <td>13.385657</td>\n",
       "      <td>1096.500000</td>\n",
       "      <td>168.000000</td>\n",
       "      <td>1022.750000</td>\n",
       "      <td>119.000000</td>\n",
       "      <td>1752.625000</td>\n",
       "      <td>1150.625000</td>\n",
       "      <td>28.600000</td>\n",
       "      <td>54.000000</td>\n",
       "      <td>1.366492</td>\n",
       "    </tr>\n",
       "    <tr>\n",
       "      <th>max</th>\n",
       "      <td>8.100000</td>\n",
       "      <td>2039.750000</td>\n",
       "      <td>1189.000000</td>\n",
       "      <td>40.260061</td>\n",
       "      <td>1776.250000</td>\n",
       "      <td>631.000000</td>\n",
       "      <td>1940.750000</td>\n",
       "      <td>233.000000</td>\n",
       "      <td>2746.000000</td>\n",
       "      <td>2474.750000</td>\n",
       "      <td>44.600000</td>\n",
       "      <td>85.150002</td>\n",
       "      <td>2.180639</td>\n",
       "    </tr>\n",
       "  </tbody>\n",
       "</table>\n",
       "</div>"
      ],
      "text/plain": [
       "            CO(GT)  PT08.S1(CO)     NMHC(GT)     C6H6(GT)  PT08.S2(NMHC)  \\\n",
       "count  3447.000000  4275.000000   914.000000  4275.000000    4275.000000   \n",
       "mean      1.918422  1077.334113   218.811816     9.850661     937.848090   \n",
       "std       1.206673   200.344215   204.459921     6.566329     240.489984   \n",
       "min       0.100000   708.000000     7.000000     0.464418     437.000000   \n",
       "25%       1.000000   932.250000    67.000000     4.843458     755.500000   \n",
       "50%       1.700000  1047.500000   150.000000     8.499723     919.500000   \n",
       "75%       2.500000  1184.250000   297.000000    13.385657    1096.500000   \n",
       "max       8.100000  2039.750000  1189.000000    40.260061    1776.250000   \n",
       "\n",
       "           NOx(GT)  PT08.S3(NOx)      NO2(GT)  PT08.S4(NO2)  PT08.S5(O3)  \\\n",
       "count  3525.000000   4275.000000  3522.000000   4275.000000  4275.000000   \n",
       "mean    126.051348    897.271150    94.706133   1617.936394   944.460370   \n",
       "std      83.970746    228.686816    36.637686    255.788785   343.175279   \n",
       "min       2.000000    387.500000     5.000000    955.000000   263.000000   \n",
       "25%      63.000000    735.875000    67.000000   1441.750000   692.875000   \n",
       "50%     108.000000    860.000000    94.000000   1587.000000   896.500000   \n",
       "75%     168.000000   1022.750000   119.000000   1752.625000  1150.625000   \n",
       "max     631.000000   1940.750000   233.000000   2746.000000  2474.750000   \n",
       "\n",
       "                 T           RH           AH  \n",
       "count  4275.000000  4275.000000  4275.000000  \n",
       "mean     23.451201    42.485045     1.153040  \n",
       "std       7.843419    15.985736     0.343338  \n",
       "min       6.100000     9.175000     0.375444  \n",
       "25%      17.300000    29.500000     0.904255  \n",
       "50%      23.450000    42.500000     1.096318  \n",
       "75%      28.600000    54.000000     1.366492  \n",
       "max      44.600000    85.150002     2.180639  "
      ]
     },
     "execution_count": 4,
     "metadata": {},
     "output_type": "execute_result"
    }
   ],
   "source": [
    "# Load data and keep only first six months.\n",
    "data = pd.read_excel(\"data.xlsx\")\n",
    "data = data[data[\"Date\"] <= \"2004-09-10\"]\n",
    "\n",
    "# Visualize data summary.\n",
    "data.describe()"
   ]
  },
  {
   "cell_type": "markdown",
   "metadata": {},
   "source": [
    "# Preprocessing\n",
    "The data is preprocessed and sliced into different sets. Data is scaled before analysis. In particular, standard scaling provides better results with respect to R2 score and explained variance.\n",
    "No imputation is performed."
   ]
  },
  {
   "cell_type": "code",
   "execution_count": 5,
   "metadata": {},
   "outputs": [],
   "source": [
    "# Select columns and remove rows with missing values.\n",
    "columns = [\"PT08.S1(CO)\", \"PT08.S3(NOx)\", \"PT08.S4(NO2)\", \"PT08.S5(O3)\", \"T\", \"AH\", \"CO(GT)\", \"C6H6(GT)\", \"NOx(GT)\", \"NO2(GT)\"]\n",
    "data = data[columns].dropna(axis=0)\n",
    "\n",
    "# Scale data to zero mean and unit variance.\n",
    "X_t = scaler.fit_transform(data)\n",
    "\n",
    "# Optional: Impute missing values.\n",
    "# X_t = imputer.fit_transform(X_t)\n",
    "\n",
    "# Remove outliers.\n",
    "is_inlier = detector.fit_predict(X_t)\n",
    "X_t = X_t[(is_inlier > 0),:]\n",
    "\n",
    "# Restore frame.\n",
    "data = pd.DataFrame(X_t, columns=columns)"
   ]
  },
  {
   "cell_type": "markdown",
   "metadata": {},
   "source": [
    "# First Iteration\n",
    "In a first iteration, the order of the data is kept, i.e. the performance of the model is analyzed on the second quarter of measuring."
   ]
  },
  {
   "cell_type": "code",
   "execution_count": 6,
   "metadata": {},
   "outputs": [
    {
     "name": "stdout",
     "output_type": "stream",
     "text": [
      "Training set consists of 1892 samples. Test set contains 811 samples.\n"
     ]
    }
   ],
   "source": [
    "# Define training data.\n",
    "data_train = data.iloc[0:(7*data.shape[0]//10)]\n",
    "X = data_train[[\"PT08.S1(CO)\", \"PT08.S3(NOx)\", \"PT08.S4(NO2)\", \"PT08.S5(O3)\", \"T\", \"AH\"]]\n",
    "Y = data_train[[\"CO(GT)\", \"C6H6(GT)\", \"NOx(GT)\", \"NO2(GT)\"]]\n",
    "\n",
    "# Define test data.\n",
    "data_test = data.iloc[(7*data.shape[0]//10):]\n",
    "X_test = data_test[[\"PT08.S1(CO)\", \"PT08.S3(NOx)\", \"PT08.S4(NO2)\", \"PT08.S5(O3)\", \"T\", \"AH\"]]\n",
    "Y_test = data_test[[\"CO(GT)\", \"C6H6(GT)\", \"NOx(GT)\", \"NO2(GT)\"]]\n",
    "\n",
    "print(\"Training set consists of\", X.shape[0], \"samples. Test set contains\", X_test.shape[0], \"samples.\")"
   ]
  },
  {
   "cell_type": "markdown",
   "metadata": {},
   "source": [
    "# Dimensionality Reduction\n",
    "\n",
    "This experiments was performed at one place, i.e. the collections of sensors was stationary. Since the concentration of pollutants is cyclic due to night-day cycles, it is expected that the signals are correlated and lie in a subspace which is parametrized by a time variable. This can be examined by performing a dimensionality reduction."
   ]
  },
  {
   "cell_type": "code",
   "execution_count": 45,
   "metadata": {},
   "outputs": [
    {
     "name": "stderr",
     "output_type": "stream",
     "text": [
      "/Library/anaconda3/lib/python3.7/site-packages/sklearn/utils/extmath.py:530: RuntimeWarning: invalid value encountered in multiply\n",
      "  v *= signs[:, np.newaxis]\n"
     ]
    },
    {
     "data": {
      "image/png": "[encoded data removed]",
      "text/plain": [
       "<Figure size 212.4x212.4 with 1 Axes>"
      ]
     },
     "metadata": {
      "needs_background": "light"
     },
     "output_type": "display_data"
    }
   ],
   "source": [
    "# Perform dimensionality reduction on the data.\n",
    "Y_r_train = dim_red.fit_transform(Y)\n",
    "Y_r_test = dim_red.fit_transform(Y_test)\n",
    "\n",
    "# Plot in reduced dimensions.\n",
    "fig = plt.figure(figsize=(2.95,2.95))\n",
    "fig.tight_layout()\n",
    "plt.plot(Y_r_train[:,0], Y_r_train[:,1], color=plt.cm.viridis(0.3), marker=\".\", alpha=1.0, mec='k', linestyle=\"\", label=\"first quarter\")\n",
    "plt.plot(Y_r_test[:,0], Y_r_test[:,1], color=plt.cm.viridis(0.6), marker=\".\", alpha=1.0, mec='k', linestyle=\"\", label=\"second quarter\")\n",
    "plt.ylim(-1.0, 1.0)\n",
    "plt.xlim(-1.0, 1.0)\n",
    "plt.xlabel(\"principal component 1\")\n",
    "plt.ylabel(\"principal component 2\")\n",
    "plt.legend(frameon=False, loc=3)\n",
    "plt.savefig('./figures/dimensionality_reduction',dpi=900,transparent=True,orientation='landscape',bbox_inches='tight')\n",
    "plt.show()"
   ]
  },
  {
   "cell_type": "markdown",
   "metadata": {},
   "source": [
    "A Kolmogorov-Smirnoff test between the first three and the second three months of collections is not able to show any difference in distribution of signal intensities, as all p-values are below 0.05."
   ]
  },
  {
   "cell_type": "code",
   "execution_count": 7,
   "metadata": {},
   "outputs": [],
   "source": [
    "# Training phase.\n",
    "parameters = {\"alpha\": np.logspace(-2, 2, 50), \"hidden_layer_sizes\": [(5), (10)]} # Define grid. \n",
    "clf1 = RandomizedSearchCV(model, parameters, n_iter=100, cv=5, scoring='neg_mean_squared_error', n_jobs=-1, random_state=0) # Run grid search.\n",
    "clf1.fit(X, Y) # Train/optimize regressor.\n",
    "model1 = clf1.best_estimator_ # Select best model."
   ]
  },
  {
   "cell_type": "markdown",
   "metadata": {},
   "source": [
    "# Results and Discussion\n",
    "\n",
    "The performance is mediocre, and it remains to analyze wheter the sequential aspect (e.g. due to drift) makes the performance worse."
   ]
  },
  {
   "cell_type": "code",
   "execution_count": 8,
   "metadata": {},
   "outputs": [
    {
     "name": "stdout",
     "output_type": "stream",
     "text": [
      "Explained variance is 0.75 , R2 score is 0.71 , and MSE is 0.17 .\n"
     ]
    }
   ],
   "source": [
    "# Evaluate first model in testing phase.\n",
    "Y_predict = model1.predict(X_test) # Predict.\n",
    "exp = explained_variance_score(Y_test, Y_predict) \n",
    "r2 = r2_score(Y_test, Y_predict)\n",
    "mse = mean_squared_error(Y_test, Y_predict)\n",
    "print(\"Explained variance is\", np.round(exp, 2), \", R2 score is\", np.round(r2, 2), \", and MSE is\", np.round(mse, 2), \".\")"
   ]
  },
  {
   "cell_type": "markdown",
   "metadata": {},
   "source": [
    "# Second Iteration\n",
    "In a second iteration, the order of the data is not kept, i.e. the performance of the model is analyzed on the shuffeled data."
   ]
  },
  {
   "cell_type": "code",
   "execution_count": 9,
   "metadata": {},
   "outputs": [
    {
     "name": "stdout",
     "output_type": "stream",
     "text": [
      "Training set consists of 1892 samples. Test set contains 811 samples.\n"
     ]
    }
   ],
   "source": [
    "# Reassign training data.\n",
    "X = data[[\"PT08.S1(CO)\", \"PT08.S3(NOx)\", \"PT08.S4(NO2)\", \"PT08.S5(O3)\", \"T\", \"AH\"]]\n",
    "Y = data[[\"CO(GT)\", \"C6H6(GT)\", \"NOx(GT)\", \"NO2(GT)\"]]\n",
    "\n",
    "# Perform slicing into training and test set.\n",
    "X_train, X_test, Y_train, Y_test = train_test_split(X, Y, test_size=0.30, random_state=0)\n",
    "print(\"Training set consists of\", X_train.shape[0], \"samples. Test set contains\", X_test.shape[0], \"samples.\")"
   ]
  },
  {
   "cell_type": "code",
   "execution_count": 10,
   "metadata": {},
   "outputs": [],
   "source": [
    "# Training phase.\n",
    "parameters = {\"alpha\": np.logspace(-2, 2, 50), \"hidden_layer_sizes\": [(5), (10)]} # Define grid. \n",
    "clf2 = RandomizedSearchCV(model, parameters, n_iter=100, cv=5, scoring='neg_mean_squared_error', n_jobs=-1, random_state=0) # Run grid search.\n",
    "clf2.fit(X_train, Y_train) # Train/optimize regressor.\n",
    "model2 = clf2.best_estimator_ # Select best model."
   ]
  },
  {
   "cell_type": "markdown",
   "metadata": {},
   "source": [
    "# Results and Discussion\n",
    "\n",
    "The model with shuffled data is better with respect to the metrics."
   ]
  },
  {
   "cell_type": "code",
   "execution_count": 12,
   "metadata": {},
   "outputs": [
    {
     "name": "stdout",
     "output_type": "stream",
     "text": [
      "Explained variance is 0.83 , R2 score is 0.83 , and MSE is 0.1 .\n"
     ]
    }
   ],
   "source": [
    "# Evaluate second model in testing phase.\n",
    "Y_predict = model2.predict(X_test) # Predict.\n",
    "exp = explained_variance_score(Y_test, Y_predict) \n",
    "r2 = r2_score(Y_test, Y_predict)\n",
    "mse = mean_squared_error(Y_test, Y_predict)\n",
    "print(\"Explained variance is\", np.round(exp, 2), \", R2 score is\", np.round(r2, 2), \", and MSE is\", np.round(mse, 2), \".\")"
   ]
  },
  {
   "cell_type": "code",
   "execution_count": 13,
   "metadata": {},
   "outputs": [
    {
     "data": {
      "image/png": "[encoded data removed]",
      "text/plain": [
       "<Figure size 212.4x212.4 with 1 Axes>"
      ]
     },
     "metadata": {
      "needs_background": "light"
     },
     "output_type": "display_data"
    }
   ],
   "source": [
    "# Compute individual R2 scores.\n",
    "r2_ = r2_score(Y_test, Y_predict, multioutput=\"raw_values\")\n",
    "labels = [item[:-4] for item in Y.columns]\n",
    "\n",
    "# Plot individual R2 scores.\n",
    "fig = plt.figure(figsize=(2.95,2.95))\n",
    "fig.tight_layout()\n",
    "plt.barh(range(len(r2_)), r2_[r2_.argsort()], color=plt.cm.viridis(0.6), ecolor=plt.cm.viridis(0.6), \n",
    "         height=0.3, xerr=None, align=\"center\", alpha=1.0)\n",
    "plt.yticks(range(len(r2_)), np.array(labels)[r2_.argsort()],rotation=0)\n",
    "plt.xticks((0,0.25,0.5,0.75,1.0))\n",
    "plt.ylim([-1, len(r2_)])\n",
    "plt.xlim([0, 1.0])\n",
    "plt.xlabel(\"R$^2$ score\")\n",
    "plt.ylabel(\"reference gas\")\n",
    "plt.savefig('./figures/R2',dpi=900,transparent=True,orientation='landscape',bbox_inches='tight')\n",
    "plt.show()"
   ]
  },
  {
   "cell_type": "code",
   "execution_count": 13,
   "metadata": {},
   "outputs": [
    {
     "data": {
      "image/png": "[encoded data removed]",
      "text/plain": [
       "<Figure size 212.4x212.4 with 1 Axes>"
      ]
     },
     "metadata": {
      "needs_background": "light"
     },
     "output_type": "display_data"
    }
   ],
   "source": [
    "# Determine slope.\n",
    "slope = lin_reg.fit(Y_test.values.flatten().reshape(-1, 1), Y_predict.flatten().reshape(-1, 1))\n",
    "\n",
    "# Perform predictions.\n",
    "Y_syn = np.linspace(-10, 10, 10)\n",
    "Y_syn_p = slope.predict(Y_syn.reshape(-1, 1))\n",
    "\n",
    "# Plot predictions vs. true values.\n",
    "fig = plt.figure(figsize=(2.95,2.95))\n",
    "fig.tight_layout()\n",
    "ax = fig.add_subplot(111)\n",
    "ax.set_xlabel(r\"Y$_{data}$\")\n",
    "ax.set_ylabel(r\"Y$_{model}$\")\n",
    "ax.set_xlim(-4.0, 4.0)\n",
    "ax.set_ylim(-4.0, 4.0)\n",
    "ax.plot(Y_syn,Y_syn_p, \":\", color=\"k\", label=r\"$\\rho$ = \"+str(np.round(slope.coef_[0][0],2)))\n",
    "ax.plot([-10,10],[-10,10], \"-\", color=\"k\")\n",
    "ax.plot(Y_test.values, Y_predict, color=plt.cm.viridis(0.6), marker=\".\", alpha=1.0, mec='k', linestyle=\"\")\n",
    "plt.legend(frameon=False, loc=4)\n",
    "plt.savefig('./figures/congruency',dpi=900,transparent=True,orientation='landscape',bbox_inches='tight')\n",
    "plt.show()"
   ]
  },
  {
   "cell_type": "code",
   "execution_count": 16,
   "metadata": {},
   "outputs": [
    {
     "data": {
      "image/png": "[encoded data removed]",
      "text/plain": [
       "<Figure size 212.4x212.4 with 1 Axes>"
      ]
     },
     "metadata": {
      "needs_background": "light"
     },
     "output_type": "display_data"
    }
   ],
   "source": [
    "# Compute validation curve.\n",
    "param_range = np.logspace(-2, 2, 21)\n",
    "train_scores, test_scores = validation_curve(model2, X, Y, \n",
    "                                             \"alpha\", param_range, cv=10, \n",
    "                                             scoring=\"r2\", verbose=0, n_jobs=-1)\n",
    "\n",
    "# Plot validation curve.\n",
    "train_scores_mean = np.mean(train_scores, axis=1)\n",
    "train_scores_std = np.std(train_scores, axis=1)\n",
    "test_scores_mean = np.mean(test_scores, axis=1)\n",
    "test_scores_std = np.std(test_scores, axis=1)\n",
    "\n",
    "fig = plt.figure(figsize=(2.95,2.95))\n",
    "fig.tight_layout()\n",
    "ax = fig.add_subplot(111)\n",
    "ax.set_xlabel(r\"$\\alpha$\")\n",
    "ax.set_ylabel(\"R$^2$ score\")\n",
    "ax.set_ylim(0.0, 1.0)\n",
    "ax.set_xlim(param_range[0], param_range[-1])\n",
    "plt.semilogx(param_range, train_scores_mean, label=\"training\",color=plt.cm.viridis(0.3))\n",
    "plt.fill_between(param_range, train_scores_mean - train_scores_std,train_scores_mean + train_scores_std, alpha=0.3,color=plt.cm.viridis(0.3))\n",
    "plt.semilogx(param_range, test_scores_mean, label=\"validation\",color=plt.cm.viridis(0.6))\n",
    "plt.fill_between(param_range, test_scores_mean - test_scores_std,test_scores_mean + test_scores_std, alpha=0.3,color=plt.cm.viridis(0.6))\n",
    "plt.legend(frameon=False, loc=3)\n",
    "plt.savefig('./figures/validation_curve',dpi=900,transparent=True,orientation='landscape',bbox_inches='tight')\n",
    "plt.show()"
   ]
  },
  {
   "cell_type": "code",
   "execution_count": 22,
   "metadata": {},
   "outputs": [
    {
     "data": {
      "image/png": "[encoded data removed]",
      "text/plain": [
       "<Figure size 212.4x212.4 with 1 Axes>"
      ]
     },
     "metadata": {
      "needs_background": "light"
     },
     "output_type": "display_data"
    }
   ],
   "source": [
    "# Compute training curve.\n",
    "train_sizes, train_scores, test_scores = learning_curve(model2, X, Y, \n",
    "                                                        train_sizes=np.linspace(600, 2000, 11, dtype=\"int\"), \n",
    "                                                        scoring=\"r2\", cv=10, verbose=0, n_jobs=-1)\n",
    "\n",
    "# Plot training curve.\n",
    "train_scores_mean = np.mean(train_scores, axis=1)\n",
    "train_scores_std = np.std(train_scores, axis=1)\n",
    "test_scores_mean = np.mean(test_scores, axis=1)\n",
    "test_scores_std = np.std(test_scores, axis=1)\n",
    "\n",
    "fig = plt.figure(figsize=(2.95,2.95))\n",
    "fig.tight_layout()\n",
    "ax = fig.add_subplot(111)\n",
    "ax.set_xlabel(r\"N\")\n",
    "ax.set_ylabel(\"R$^2$ score\")\n",
    "ax.set_ylim(0.0, 1.0)\n",
    "ax.set_xlim(train_sizes[0], train_sizes[-1])\n",
    "plt.plot(train_sizes, train_scores_mean, label=\"training\",color=plt.cm.viridis(0.3))\n",
    "plt.fill_between(train_sizes, train_scores_mean - train_scores_std,train_scores_mean + train_scores_std, alpha=0.3,color=plt.cm.viridis(0.3))\n",
    "plt.plot(train_sizes, test_scores_mean, label=\"validation\",color=plt.cm.viridis(0.6))\n",
    "plt.fill_between(train_sizes, test_scores_mean - test_scores_std,test_scores_mean + test_scores_std, alpha=0.3,color=plt.cm.viridis(0.6))\n",
    "plt.legend(frameon=False, loc=3)\n",
    "plt.savefig('./figures/training_curve',dpi=900,transparent=True,orientation='landscape',bbox_inches='tight')\n",
    "plt.show()"
   ]
  },
  {
   "cell_type": "code",
   "execution_count": 17,
   "metadata": {},
   "outputs": [
    {
     "data": {
      "image/png": "[encoded data removed]",
      "text/plain": [
       "<Figure size 212.4x212.4 with 1 Axes>"
      ]
     },
     "metadata": {
      "needs_background": "light"
     },
     "output_type": "display_data"
    }
   ],
   "source": [
    "# Compute and plot permutation importance.\n",
    "importance = permutation_importance(model2, X_train, Y_train, n_repeats=100, scoring=\"r2\", random_state=0) # Compute.\n",
    "perm_sorted_idx = importance.importances_mean.argsort() # Sort labels.\n",
    "labels_ = [item.split(\"(\")[-1].split(\")\")[0] for item in X_test.columns[perm_sorted_idx]] # Customize labels.\n",
    "\n",
    "fig = plt.figure(figsize=(2.95,2.95))\n",
    "fig.tight_layout()\n",
    "bp = plt.boxplot(importance.importances[perm_sorted_idx].T, vert=False, labels=labels_,\n",
    "           flierprops=dict(markersize=4, markerfacecolor='k',marker='.'), widths=0.3)\n",
    "plt.setp(bp['medians'], color=plt.cm.viridis(0.6))\n",
    "plt.xlabel(\"importance\")\n",
    "plt.ylabel(\"sensor\")\n",
    "plt.xlim((0,0.5))\n",
    "plt.ylim((0, 7))\n",
    "plt.savefig('./figures/permutation_importance',dpi=900,transparent=True,orientation='landscape',bbox_inches='tight')\n",
    "plt.show()"
   ]
  },
  {
   "cell_type": "code",
   "execution_count": 19,
   "metadata": {},
   "outputs": [
    {
     "data": {
      "image/png": "[encoded data removed]",
      "text/plain": [
       "<Figure size 212.4x212.4 with 1 Axes>"
      ]
     },
     "metadata": {
      "needs_background": "light"
     },
     "output_type": "display_data"
    }
   ],
   "source": [
    "# Calculate and plot covariance matrix.\n",
    "rho, pval = sp.stats.spearmanr(data.values)\n",
    "sigma = rho[::-1]\n",
    "\n",
    "labels = [item[:-4] for item in Y.columns]\n",
    "labels__ = [item.split(\"(\")[-1].split(\")\")[0]+\"-s\" for item in X_test.columns]+[item+\"-r\" for item in labels]\n",
    "\n",
    "fig, ax = plt.subplots(figsize=(2.95,2.95))\n",
    "fig.tight_layout()\n",
    "im = ax.imshow(np.abs(sigma), cmap=plt.cm.viridis, aspect=\"equal\")\n",
    "\n",
    "# We want to show all ticks.\n",
    "ax.set_ylim((0-0.5,len(labels__)-0.5))\n",
    "ax.set_xticks(np.arange(len(labels__)))\n",
    "ax.set_yticks(np.arange(len(labels__)))\n",
    "# ... and label them with the respective list entries\n",
    "ax.set_xticklabels(labels__)\n",
    "ax.set_yticklabels(labels__[::-1])\n",
    "\n",
    "# Loop over data dimensions and create text annotations.\n",
    "fmt = '.2f'\n",
    "thresh = sigma.max() / 2.\n",
    "for i in range(sigma.shape[0]):\n",
    "    for j in range(sigma.shape[1]):\n",
    "        ax.text(j, i, format(sigma[i,j], fmt), fontsize=5,ha='center', va='center',color='white' if np.abs(sigma[i,j]) < thresh else 'black')\n",
    "\n",
    "# Rotate the tick labels and set their alignment.\n",
    "plt.setp(ax.get_xticklabels(), rotation=90, ha='center',rotation_mode='default')\n",
    "\n",
    "fig.tight_layout()\n",
    "plt.savefig('./figures/correlations',dpi=900,transparent=True,orientation='landscape',bbox_inches='tight')\n",
    "plt.show()"
   ]
  },
  {
   "cell_type": "code",
   "execution_count": 20,
   "metadata": {},
   "outputs": [
    {
     "data": {
      "image/png": "[encoded data removed]",
      "text/plain": [
       "<Figure size 212.4x212.4 with 1 Axes>"
      ]
     },
     "metadata": {
      "needs_background": "light"
     },
     "output_type": "display_data"
    },
    {
     "data": {
      "image/png": "[encoded data removed]",
      "text/plain": [
       "<Figure size 212.4x212.4 with 1 Axes>"
      ]
     },
     "metadata": {
      "needs_background": "light"
     },
     "output_type": "display_data"
    },
    {
     "data": {
      "image/png": "[encoded data removed]",
      "text/plain": [
       "<Figure size 212.4x212.4 with 1 Axes>"
      ]
     },
     "metadata": {
      "needs_background": "light"
     },
     "output_type": "display_data"
    },
    {
     "data": {
      "image/png": "[encoded data removed]",
      "text/plain": [
       "<Figure size 212.4x212.4 with 1 Axes>"
      ]
     },
     "metadata": {
      "needs_background": "light"
     },
     "output_type": "display_data"
    },
    {
     "data": {
      "image/png": "[encoded data removed]",
      "text/plain": [
       "<Figure size 212.4x212.4 with 1 Axes>"
      ]
     },
     "metadata": {
      "needs_background": "light"
     },
     "output_type": "display_data"
    },
    {
     "data": {
      "image/png": "[encoded data removed]",
      "text/plain": [
       "<Figure size 212.4x212.4 with 1 Axes>"
      ]
     },
     "metadata": {
      "needs_background": "light"
     },
     "output_type": "display_data"
    }
   ],
   "source": [
    "# Compute and plot partial dependences.\n",
    "linestyles = [\"-\",\"-.\",\"--\",\":\"]\n",
    "\n",
    "# NO2 sensor.\n",
    "y_, x_ = partial_dependence(model2, X, [\"PT08.S4(NO2)\"])\n",
    "fig = plt.figure(figsize=(2.95,2.95))\n",
    "colors = plt.cm.Wistia(np.linspace(0,1,4))\n",
    "for k, label in enumerate(Y.columns):\n",
    "    plt.plot(x_[0],y_[k].ravel(), linestyles[k], color=plt.cm.viridis((k)*1/5), label=label[:-4])\n",
    "plt.xlabel(\"NO2 sensor response\")\n",
    "plt.ylabel(\"reference gas concentration\")\n",
    "plt.legend(loc=2,frameon=False)\n",
    "plt.xlim((-2.0,2.0))\n",
    "plt.ylim((-1.0,1.0))\n",
    "plt.savefig(\"./figures/pdp_NO2\",dpi=900,transparent=True,orientation='landscape',bbox_inches='tight')\n",
    "plt.show()\n",
    "\n",
    "# NOx sensor.\n",
    "y_, x_ = partial_dependence(model2, X, [\"PT08.S3(NOx)\"])\n",
    "fig = plt.figure(figsize=(2.95,2.95))\n",
    "colors = plt.cm.Wistia(np.linspace(0,1,4))\n",
    "for k, label in enumerate(Y.columns):\n",
    "    plt.plot(x_[0],y_[k].ravel(), linestyles[k], color=plt.cm.viridis((k)*1/5), label=label[:-4])\n",
    "plt.xlabel(\"NOx sensor response\")\n",
    "plt.ylabel(\"reference gas concentration\")\n",
    "plt.legend(loc=1,frameon=False)\n",
    "plt.xlim((-2.0,2.0))\n",
    "plt.ylim((-1.0,1.0))\n",
    "plt.savefig(\"./figures/pdp_NOx\",dpi=900,transparent=True,orientation='landscape',bbox_inches='tight')\n",
    "\n",
    "# CO sensor.\n",
    "y_, x_ = partial_dependence(model2, X, [\"PT08.S1(CO)\"])\n",
    "fig = plt.figure(figsize=(2.95,2.95))\n",
    "colors = plt.cm.Wistia(np.linspace(0,1,4))\n",
    "for k, label in enumerate(Y.columns):\n",
    "    plt.plot(x_[0],y_[k].ravel(), linestyles[k], color=plt.cm.viridis((k)*1/5), label=label[:-4])\n",
    "plt.xlabel(\"CO sensor response\")\n",
    "plt.ylabel(\"reference gas concentration\")\n",
    "plt.legend(loc=2,frameon=False)\n",
    "plt.xlim((-2.0,2.0))\n",
    "plt.ylim((-1.0,1.0))\n",
    "plt.savefig(\"./figures/pdp_CO\",dpi=900,transparent=True,orientation='landscape',bbox_inches='tight')\n",
    "\n",
    "# O3 sensor.\n",
    "y_, x_ = partial_dependence(model2, X, [\"PT08.S5(O3)\"])\n",
    "fig = plt.figure(figsize=(2.95,2.95))\n",
    "colors = plt.cm.Wistia(np.linspace(0,1,4))\n",
    "for k, label in enumerate(Y.columns):\n",
    "    plt.plot(x_[0],y_[k].ravel(), linestyles[k], color=plt.cm.viridis((k)*1/5), label=label[:-4])\n",
    "plt.xlabel(\"O3 sensor response\")\n",
    "plt.ylabel(\"reference gas concentration\")\n",
    "plt.legend(loc=2,frameon=False)\n",
    "plt.xlim((-2.0,2.0))\n",
    "plt.ylim((-1.0,1.0))\n",
    "plt.savefig(\"./figures/pdp_O3\",dpi=900,transparent=True,orientation='landscape',bbox_inches='tight')\n",
    "\n",
    "# Temperature.\n",
    "y_, x_ = partial_dependence(model2, X, [\"T\"])\n",
    "fig = plt.figure(figsize=(2.95,2.95))\n",
    "colors = plt.cm.Wistia(np.linspace(0,1,4))\n",
    "for k, label in enumerate(Y.columns):\n",
    "    plt.plot(x_[0],y_[k].ravel(), linestyles[k], color=plt.cm.viridis((k)*1/5), label=label[:-4])\n",
    "plt.xlabel(\"temperature\")\n",
    "plt.ylabel(\"reference gas concentration\")\n",
    "plt.legend(loc=1,frameon=False)\n",
    "plt.xlim((-2.0,2.0))\n",
    "plt.ylim((-1.0,1.0))\n",
    "plt.savefig(\"./figures/pdp_T\",dpi=900,transparent=True,orientation='landscape',bbox_inches='tight')\n",
    "\n",
    "# Absolute humidity.\n",
    "y_, x_ = partial_dependence(model2, X, [\"AH\"])\n",
    "fig = plt.figure(figsize=(2.95,2.95))\n",
    "colors = plt.cm.Wistia(np.linspace(0,1,4))\n",
    "for k, label in enumerate(Y.columns):\n",
    "    plt.plot(x_[0],y_[k].ravel(), linestyles[k], color=plt.cm.viridis((k)*1/5), label=label[:-4])\n",
    "plt.xlabel(\"absolute humidity\")\n",
    "plt.ylabel(\"reference gas concentration\")\n",
    "plt.legend(loc=1,frameon=False)\n",
    "plt.xlim((-2.0,2.0))\n",
    "plt.ylim((-1.0,1.0))\n",
    "plt.savefig(\"./figures/pdp_AH\",dpi=900,transparent=True,orientation='landscape',bbox_inches='tight')"
   ]
  }
 ],
 "metadata": {
  "kernelspec": {
   "display_name": "Python 3",
   "language": "python",
   "name": "python3"
  },
  "language_info": {
   "codemirror_mode": {
    "name": "ipython",
    "version": 3
   },
   "file_extension": ".py",
   "mimetype": "text/x-python",
   "name": "python",
   "nbconvert_exporter": "python",
   "pygments_lexer": "ipython3",
   "version": "3.7.6"
  }
 },
 "nbformat": 4,
 "nbformat_minor": 4
}
