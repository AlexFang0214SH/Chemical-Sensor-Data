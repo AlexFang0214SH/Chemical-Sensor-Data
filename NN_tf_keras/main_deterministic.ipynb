{
 "cells": [
  {
   "cell_type": "markdown",
   "metadata": {},
   "source": [
    "# Introduction\n",
    "\n",
    "This notebook guides through calibration function development using published data (S. De Vito et al., Sensors and Actuators B: Chemical, Volume 129, Issue 2)."
   ]
  },
  {
   "cell_type": "code",
   "execution_count": 2,
   "metadata": {},
   "outputs": [],
   "source": [
    "# Load libriaries.\n",
    "import pandas as pd\n",
    "import numpy as np\n",
    "import tensorflow as tf\n",
    "tfk = tf.keras\n",
    "tf.keras.backend.set_floatx(\"float64\")\n",
    "from sklearn.preprocessing import StandardScaler\n",
    "from sklearn.ensemble import IsolationForest\n",
    "from sklearn.linear_model import LinearRegression\n",
    "from sklearn.model_selection import train_test_split\n",
    "from sklearn.metrics import r2_score, explained_variance_score, mean_squared_error\n",
    "import matplotlib.pyplot as plt\n",
    "plt.rcParams[\"lines.linewidth\"] = 1.0\n",
    "plt.rcParams[\"font.size\"] = 6.0\n",
    "plt.rcParams[\"axes.titlesize\"] = 6.0"
   ]
  },
  {
   "cell_type": "markdown",
   "metadata": {},
   "source": [
    "# Additional Functions\n",
    "\n",
    "Define some helper functions."
   ]
  },
  {
   "cell_type": "code",
   "execution_count": 3,
   "metadata": {},
   "outputs": [],
   "source": [
    "# Define helper functions.\n",
    "scaler = StandardScaler() # Define standard scaler instance.\n",
    "detector = IsolationForest(n_estimators=1000, behaviour=\"deprecated\", contamination=\"auto\", random_state=0) # Define outlier detector instance.\n",
    "lin_reg = LinearRegression() # Define linear regression instance."
   ]
  },
  {
   "cell_type": "markdown",
   "metadata": {},
   "source": [
    "# Preprocessing\n",
    "Data is scaled before analysis. In particular, standard scaling provides better results with respect to R2 score and explained variance compared with unscaled analysis. No imputation is performed."
   ]
  },
  {
   "cell_type": "code",
   "execution_count": 4,
   "metadata": {},
   "outputs": [
    {
     "data": {
      "text/html": [
       "<div>\n",
       "<style scoped>\n",
       "    .dataframe tbody tr th:only-of-type {\n",
       "        vertical-align: middle;\n",
       "    }\n",
       "\n",
       "    .dataframe tbody tr th {\n",
       "        vertical-align: top;\n",
       "    }\n",
       "\n",
       "    .dataframe thead th {\n",
       "        text-align: right;\n",
       "    }\n",
       "</style>\n",
       "<table border=\"1\" class=\"dataframe\">\n",
       "  <thead>\n",
       "    <tr style=\"text-align: right;\">\n",
       "      <th></th>\n",
       "      <th>CO(GT)</th>\n",
       "      <th>PT08.S1(CO)</th>\n",
       "      <th>NMHC(GT)</th>\n",
       "      <th>C6H6(GT)</th>\n",
       "      <th>PT08.S2(NMHC)</th>\n",
       "      <th>NOx(GT)</th>\n",
       "      <th>PT08.S3(NOx)</th>\n",
       "      <th>NO2(GT)</th>\n",
       "      <th>PT08.S4(NO2)</th>\n",
       "      <th>PT08.S5(O3)</th>\n",
       "      <th>T</th>\n",
       "      <th>RH</th>\n",
       "      <th>AH</th>\n",
       "    </tr>\n",
       "  </thead>\n",
       "  <tbody>\n",
       "    <tr>\n",
       "      <td>count</td>\n",
       "      <td>3447.000000</td>\n",
       "      <td>4275.000000</td>\n",
       "      <td>914.000000</td>\n",
       "      <td>4275.000000</td>\n",
       "      <td>4275.000000</td>\n",
       "      <td>3525.000000</td>\n",
       "      <td>4275.000000</td>\n",
       "      <td>3522.000000</td>\n",
       "      <td>4275.000000</td>\n",
       "      <td>4275.000000</td>\n",
       "      <td>4275.000000</td>\n",
       "      <td>4275.000000</td>\n",
       "      <td>4275.000000</td>\n",
       "    </tr>\n",
       "    <tr>\n",
       "      <td>mean</td>\n",
       "      <td>1.918422</td>\n",
       "      <td>1077.334113</td>\n",
       "      <td>218.811816</td>\n",
       "      <td>9.850661</td>\n",
       "      <td>937.848090</td>\n",
       "      <td>126.051348</td>\n",
       "      <td>897.271150</td>\n",
       "      <td>94.706133</td>\n",
       "      <td>1617.936394</td>\n",
       "      <td>944.460370</td>\n",
       "      <td>23.451201</td>\n",
       "      <td>42.485045</td>\n",
       "      <td>1.153040</td>\n",
       "    </tr>\n",
       "    <tr>\n",
       "      <td>std</td>\n",
       "      <td>1.206673</td>\n",
       "      <td>200.344215</td>\n",
       "      <td>204.459921</td>\n",
       "      <td>6.566329</td>\n",
       "      <td>240.489984</td>\n",
       "      <td>83.970746</td>\n",
       "      <td>228.686816</td>\n",
       "      <td>36.637686</td>\n",
       "      <td>255.788785</td>\n",
       "      <td>343.175279</td>\n",
       "      <td>7.843419</td>\n",
       "      <td>15.985736</td>\n",
       "      <td>0.343338</td>\n",
       "    </tr>\n",
       "    <tr>\n",
       "      <td>min</td>\n",
       "      <td>0.100000</td>\n",
       "      <td>708.000000</td>\n",
       "      <td>7.000000</td>\n",
       "      <td>0.464418</td>\n",
       "      <td>437.000000</td>\n",
       "      <td>2.000000</td>\n",
       "      <td>387.500000</td>\n",
       "      <td>5.000000</td>\n",
       "      <td>955.000000</td>\n",
       "      <td>263.000000</td>\n",
       "      <td>6.100000</td>\n",
       "      <td>9.175000</td>\n",
       "      <td>0.375444</td>\n",
       "    </tr>\n",
       "    <tr>\n",
       "      <td>25%</td>\n",
       "      <td>1.000000</td>\n",
       "      <td>932.250000</td>\n",
       "      <td>67.000000</td>\n",
       "      <td>4.843458</td>\n",
       "      <td>755.500000</td>\n",
       "      <td>63.000000</td>\n",
       "      <td>735.875000</td>\n",
       "      <td>67.000000</td>\n",
       "      <td>1441.750000</td>\n",
       "      <td>692.875000</td>\n",
       "      <td>17.300000</td>\n",
       "      <td>29.500000</td>\n",
       "      <td>0.904255</td>\n",
       "    </tr>\n",
       "    <tr>\n",
       "      <td>50%</td>\n",
       "      <td>1.700000</td>\n",
       "      <td>1047.500000</td>\n",
       "      <td>150.000000</td>\n",
       "      <td>8.499723</td>\n",
       "      <td>919.500000</td>\n",
       "      <td>108.000000</td>\n",
       "      <td>860.000000</td>\n",
       "      <td>94.000000</td>\n",
       "      <td>1587.000000</td>\n",
       "      <td>896.500000</td>\n",
       "      <td>23.450000</td>\n",
       "      <td>42.500000</td>\n",
       "      <td>1.096318</td>\n",
       "    </tr>\n",
       "    <tr>\n",
       "      <td>75%</td>\n",
       "      <td>2.500000</td>\n",
       "      <td>1184.250000</td>\n",
       "      <td>297.000000</td>\n",
       "      <td>13.385657</td>\n",
       "      <td>1096.500000</td>\n",
       "      <td>168.000000</td>\n",
       "      <td>1022.750000</td>\n",
       "      <td>119.000000</td>\n",
       "      <td>1752.625000</td>\n",
       "      <td>1150.625000</td>\n",
       "      <td>28.600000</td>\n",
       "      <td>54.000000</td>\n",
       "      <td>1.366492</td>\n",
       "    </tr>\n",
       "    <tr>\n",
       "      <td>max</td>\n",
       "      <td>8.100000</td>\n",
       "      <td>2039.750000</td>\n",
       "      <td>1189.000000</td>\n",
       "      <td>40.260061</td>\n",
       "      <td>1776.250000</td>\n",
       "      <td>631.000000</td>\n",
       "      <td>1940.750000</td>\n",
       "      <td>233.000000</td>\n",
       "      <td>2746.000000</td>\n",
       "      <td>2474.750000</td>\n",
       "      <td>44.600000</td>\n",
       "      <td>85.150002</td>\n",
       "      <td>2.180639</td>\n",
       "    </tr>\n",
       "  </tbody>\n",
       "</table>\n",
       "</div>"
      ],
      "text/plain": [
       "            CO(GT)  PT08.S1(CO)     NMHC(GT)     C6H6(GT)  PT08.S2(NMHC)  \\\n",
       "count  3447.000000  4275.000000   914.000000  4275.000000    4275.000000   \n",
       "mean      1.918422  1077.334113   218.811816     9.850661     937.848090   \n",
       "std       1.206673   200.344215   204.459921     6.566329     240.489984   \n",
       "min       0.100000   708.000000     7.000000     0.464418     437.000000   \n",
       "25%       1.000000   932.250000    67.000000     4.843458     755.500000   \n",
       "50%       1.700000  1047.500000   150.000000     8.499723     919.500000   \n",
       "75%       2.500000  1184.250000   297.000000    13.385657    1096.500000   \n",
       "max       8.100000  2039.750000  1189.000000    40.260061    1776.250000   \n",
       "\n",
       "           NOx(GT)  PT08.S3(NOx)      NO2(GT)  PT08.S4(NO2)  PT08.S5(O3)  \\\n",
       "count  3525.000000   4275.000000  3522.000000   4275.000000  4275.000000   \n",
       "mean    126.051348    897.271150    94.706133   1617.936394   944.460370   \n",
       "std      83.970746    228.686816    36.637686    255.788785   343.175279   \n",
       "min       2.000000    387.500000     5.000000    955.000000   263.000000   \n",
       "25%      63.000000    735.875000    67.000000   1441.750000   692.875000   \n",
       "50%     108.000000    860.000000    94.000000   1587.000000   896.500000   \n",
       "75%     168.000000   1022.750000   119.000000   1752.625000  1150.625000   \n",
       "max     631.000000   1940.750000   233.000000   2746.000000  2474.750000   \n",
       "\n",
       "                 T           RH           AH  \n",
       "count  4275.000000  4275.000000  4275.000000  \n",
       "mean     23.451201    42.485045     1.153040  \n",
       "std       7.843419    15.985736     0.343338  \n",
       "min       6.100000     9.175000     0.375444  \n",
       "25%      17.300000    29.500000     0.904255  \n",
       "50%      23.450000    42.500000     1.096318  \n",
       "75%      28.600000    54.000000     1.366492  \n",
       "max      44.600000    85.150002     2.180639  "
      ]
     },
     "execution_count": 4,
     "metadata": {},
     "output_type": "execute_result"
    }
   ],
   "source": [
    "# Load data and keep only first six months.\n",
    "data = pd.read_excel(\"data.xlsx\")\n",
    "data = data[data[\"Date\"] <= \"2004-09-10\"]\n",
    "\n",
    "# Visualize data summary.\n",
    "data.describe()"
   ]
  },
  {
   "cell_type": "code",
   "execution_count": 5,
   "metadata": {},
   "outputs": [],
   "source": [
    "# Select columns and remove rows with missing values.\n",
    "columns = [\"PT08.S1(CO)\", \"PT08.S3(NOx)\", \"PT08.S4(NO2)\", \"PT08.S5(O3)\", \"T\", \"AH\", \"CO(GT)\", \"C6H6(GT)\", \"NOx(GT)\", \"NO2(GT)\"]\n",
    "data = data[columns].dropna(axis=0)\n",
    "\n",
    "# Scale data to zero mean and unit variance.\n",
    "X_t = scaler.fit_transform(data)\n",
    "\n",
    "# Optional: Impute missing values.\n",
    "# X_t = imputer.fit_transform(X_t)\n",
    "\n",
    "# Remove outliers.\n",
    "is_inlier = detector.fit_predict(X_t)\n",
    "X_t = X_t[(is_inlier > 0),:]\n",
    "\n",
    "# Restore frame.\n",
    "dataset = pd.DataFrame(X_t, columns=columns)\n",
    "\n",
    "# Select labels for inputs and outputs.\n",
    "inputs = [\"PT08.S1(CO)\", \"PT08.S3(NOx)\", \"PT08.S4(NO2)\", \"PT08.S5(O3)\", \"T\", \"AH\"]\n",
    "outputs = [\"CO(GT)\", \"C6H6(GT)\", \"NOx(GT)\", \"NO2(GT)\"]"
   ]
  },
  {
   "cell_type": "markdown",
   "metadata": {},
   "source": [
    "# Data Handling\n",
    "First, a data pipline is to be defined."
   ]
  },
  {
   "cell_type": "code",
   "execution_count": 6,
   "metadata": {},
   "outputs": [],
   "source": [
    "# Define some hyperparameters.\n",
    "n_epochs = 50\n",
    "n_samples = dataset.shape[0]\n",
    "batch_size = np.floor(n_samples/10)\n",
    "buffer_size = n_samples\n",
    "\n",
    "# Define training and test data sizes.\n",
    "n_train = int(0.7*dataset.shape[0])\n",
    "\n",
    "# Define dataset instance.\n",
    "data = tf.data.Dataset.from_tensor_slices((dataset[inputs].values, dataset[outputs].values)) # Define input/output data.\n",
    "data = data.shuffle(n_samples, reshuffle_each_iteration=True) # Shuffle.\n",
    "\n",
    "# Define train and test data instances.\n",
    "data_train = data.take(n_train).batch(batch_size).repeat(n_epochs)\n",
    "data_test = data.skip(n_train).batch(1).repeat(n_epochs)"
   ]
  },
  {
   "cell_type": "markdown",
   "metadata": {},
   "source": [
    "# Training\n",
    "A deterministic neural network with two layers and Dropout is used as machine learning algorithm."
   ]
  },
  {
   "cell_type": "code",
   "execution_count": 7,
   "metadata": {},
   "outputs": [
    {
     "name": "stdout",
     "output_type": "stream",
     "text": [
      "Model: \"model\"\n",
      "_________________________________________________________________\n",
      "Layer (type)                 Output Shape              Param #   \n",
      "=================================================================\n",
      "dropout_1 (Dropout)          (None, 6)                 0         \n",
      "_________________________________________________________________\n",
      "dense_1 (Dense)              (None, 10)                70        \n",
      "_________________________________________________________________\n",
      "dropout_2 (Dropout)          (None, 10)                0         \n",
      "_________________________________________________________________\n",
      "output (Dense)               (None, 4)                 44        \n",
      "=================================================================\n",
      "Total params: 114\n",
      "Trainable params: 114\n",
      "Non-trainable params: 0\n",
      "_________________________________________________________________\n"
     ]
    }
   ],
   "source": [
    "# Define Callbacks.\n",
    "checkpoint = tfk.callbacks.ModelCheckpoint(filepath=\"model.h5\", save_best_only=True, verbose=0) # Define checkpoint.\n",
    "earlystopping = tfk.callbacks.EarlyStopping(monitor=\"loss\", patience=3) # Define early stopping.\n",
    "tensorboard = tfk.callbacks.TensorBoard(log_dir=\"./logs\", histogram_freq=0, write_graph=True, write_images=True) # Define TensorBoard.\n",
    "\n",
    "# Define model instance.\n",
    "model = tfk.Sequential([\n",
    "    tfk.layers.InputLayer(input_shape=(len(inputs),), name=\"input\"), # Input layer.\n",
    "    tfk.layers.Dropout(0.0, name=\"dropout_1\"),\n",
    "    tfk.layers.Dense(10, activation=\"relu\", name=\"dense_1\"), # First layer with ten nodes and non-linear activation.\n",
    "    tfk.layers.Dropout(0.0, name=\"dropout_2\"),\n",
    "    tfk.layers.Dense(len(outputs), activation=\"linear\", name=\"output\") # Output layer.\n",
    "], name=\"model\")\n",
    "\n",
    "# Compile model.\n",
    "model.compile(optimizer=\"adam\", loss=\"mse\") # MSE as loss function and ADAM optimizer.\n",
    "\n",
    "# Run training session.\n",
    "model.fit(data_train, epochs=n_epochs, callbacks=[checkpoint, earlystopping, tensorboard], validation_data=data_test, verbose=False)\n",
    "\n",
    "# Describe model.\n",
    "model.summary()"
   ]
  },
  {
   "cell_type": "markdown",
   "metadata": {},
   "source": [
    "# Evaluation\n",
    "Evaluate losses, coefficient of determinations, and slope."
   ]
  },
  {
   "cell_type": "code",
   "execution_count": 12,
   "metadata": {},
   "outputs": [
    {
     "data": {
      "image/png": "[encoded data removed]",
      "text/plain": [
       "<Figure size 212.4x212.4 with 1 Axes>"
      ]
     },
     "metadata": {
      "needs_background": "light"
     },
     "output_type": "display_data"
    }
   ],
   "source": [
    "# Plot the training session.\n",
    "fig = plt.figure(figsize=(2.95,2.95))\n",
    "fig.tight_layout()\n",
    "plt.xlim(0, np.round(len(model.history.epoch)+4,-1))\n",
    "plt.ylim(0.0, 0.5)\n",
    "plt.xlabel(\"epoch\")\n",
    "plt.ylabel(\"mean squared error\")\n",
    "plt.plot(list(map(lambda x: x + 1, model.history.epoch)), model.history.history[\"loss\"], label=\"training\", color=plt.cm.viridis(0.3))\n",
    "plt.plot(list(map(lambda x: x + 1, model.history.epoch)), model.history.history[\"val_loss\"], label=\"validation\", color=plt.cm.viridis(0.6))\n",
    "plt.legend(frameon=False, loc=0)\n",
    "plt.savefig('./figures/metrics',dpi=900,transparent=True,orientation='landscape',bbox_inches='tight')\n",
    "plt.show()"
   ]
  },
  {
   "cell_type": "code",
   "execution_count": 9,
   "metadata": {},
   "outputs": [],
   "source": [
    "# Predict.\n",
    "samples = int(0.3*dataset.shape[0])\n",
    "test_iterator = tf.compat.v1.data.make_one_shot_iterator(data_test)\n",
    "Y_true, Y_pred = np.empty(shape=(samples,len(outputs))), np.empty(shape=(samples,len(outputs)))\n",
    "for i in range(samples):\n",
    "    features, labels = test_iterator.get_next()\n",
    "    Y_true[i] = labels.numpy()\n",
    "    Y_pred[i] = model.predict(features)"
   ]
  },
  {
   "cell_type": "code",
   "execution_count": 10,
   "metadata": {},
   "outputs": [
    {
     "name": "stdout",
     "output_type": "stream",
     "text": [
      "Explained variance is 0.87 , R2 score is 0.87 , and MSE is 0.08 .\n"
     ]
    }
   ],
   "source": [
    "# Calculate some metrics.\n",
    "exp = explained_variance_score(Y_true, Y_pred)\n",
    "r2 = r2_score(Y_true, Y_pred)\n",
    "mse = mean_squared_error(Y_true, Y_pred)\n",
    "print(\"Explained variance is\", np.round(exp, 2), \", R2 score is\", np.round(r2, 2), \", and MSE is\", np.round(mse, 2), \".\")"
   ]
  },
  {
   "cell_type": "code",
   "execution_count": 11,
   "metadata": {},
   "outputs": [
    {
     "data": {
      "image/png": "[encoded data removed]",
      "text/plain": [
       "<Figure size 212.4x212.4 with 1 Axes>"
      ]
     },
     "metadata": {
      "needs_background": "light"
     },
     "output_type": "display_data"
    }
   ],
   "source": [
    "# Determine slope.\n",
    "slope = lin_reg.fit(Y_true.flatten().reshape(-1, 1), Y_pred.flatten().reshape(-1, 1))\n",
    "\n",
    "# Perform predictions.\n",
    "Y_syn = np.linspace(-10, 10, 10)\n",
    "Y_syn_p = slope.predict(Y_syn.reshape(-1, 1))\n",
    "\n",
    "# Plot predictions vs. true values.\n",
    "fig = plt.figure(figsize=(2.95,2.95))\n",
    "fig.tight_layout()\n",
    "ax = fig.add_subplot(111)\n",
    "ax.set_xlabel(r\"Y$_{data}$\")\n",
    "ax.set_ylabel(r\"Y$_{model}$\")\n",
    "ax.set_xlim(-4.0, 4.0)\n",
    "ax.set_ylim(-4.0, 4.0)\n",
    "ax.plot(Y_syn, Y_syn_p, \":\", color=\"k\", label=r\"$\\rho$ = \"+str(np.round(slope.coef_[0][0],2)))\n",
    "ax.plot([-10,10], [-10,10], \"-\", color=\"k\")\n",
    "ax.plot(Y_true, Y_pred, color=plt.cm.viridis(0.6), marker=\".\", alpha=1.0, mec='k', linestyle=\"\")\n",
    "plt.legend(frameon=False, loc=4)\n",
    "plt.savefig('./figures/congruency',dpi=900,transparent=True,orientation='landscape',bbox_inches='tight')\n",
    "plt.show()"
   ]
  }
 ],
 "metadata": {
  "kernelspec": {
   "display_name": "Python 3",
   "language": "python",
   "name": "python3"
  },
  "language_info": {
   "codemirror_mode": {
    "name": "ipython",
    "version": 3
   },
   "file_extension": ".py",
   "mimetype": "text/x-python",
   "name": "python",
   "nbconvert_exporter": "python",
   "pygments_lexer": "ipython3",
   "version": "3.7.4"
  }
 },
 "nbformat": 4,
 "nbformat_minor": 4
}
